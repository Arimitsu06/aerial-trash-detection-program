{
 "cells": [
  {
   "cell_type": "code",
   "execution_count": 1,
   "id": "768b2e4e",
   "metadata": {
    "execution": {
     "iopub.execute_input": "2023-04-10T17:09:34.408182Z",
     "iopub.status.busy": "2023-04-10T17:09:34.407772Z",
     "iopub.status.idle": "2023-04-10T17:09:35.879445Z",
     "shell.execute_reply": "2023-04-10T17:09:35.878349Z"
    },
    "papermill": {
     "duration": 1.478374,
     "end_time": "2023-04-10T17:09:35.882181",
     "exception": false,
     "start_time": "2023-04-10T17:09:34.403807",
     "status": "completed"
    },
    "tags": []
   },
   "outputs": [
    {
     "name": "stdout",
     "output_type": "stream",
     "text": [
      "Cloning into 'uavvaste'...\r\n",
      "remote: Enumerating objects: 68, done.\u001b[K\r\n",
      "remote: Counting objects: 100% (68/68), done.\u001b[K\r\n",
      "remote: Compressing objects: 100% (54/54), done.\u001b[K\r\n",
      "remote: Total 68 (delta 29), reused 35 (delta 10), pack-reused 0\u001b[K\r\n",
      "Receiving objects: 100% (68/68), 425.00 KiB | 8.17 MiB/s, done.\r\n",
      "Resolving deltas: 100% (29/29), done.\r\n",
      "/kaggle/working/uavvaste\n"
     ]
    }
   ],
   "source": [
    "!git clone https://github.com/uavvaste/uavvaste\n",
    "%cd ./uavvaste"
   ]
  },
  {
   "cell_type": "code",
   "execution_count": 2,
   "id": "9484c509",
   "metadata": {
    "execution": {
     "iopub.execute_input": "2023-04-10T17:09:35.888077Z",
     "iopub.status.busy": "2023-04-10T17:09:35.887769Z",
     "iopub.status.idle": "2023-04-10T17:10:07.265816Z",
     "shell.execute_reply": "2023-04-10T17:10:07.264536Z"
    },
    "papermill": {
     "duration": 31.38406,
     "end_time": "2023-04-10T17:10:07.268601",
     "exception": false,
     "start_time": "2023-04-10T17:09:35.884541",
     "status": "completed"
    },
    "tags": []
   },
   "outputs": [
    {
     "name": "stdout",
     "output_type": "stream",
     "text": [
      "Requirement already satisfied: requests in /opt/conda/lib/python3.7/site-packages (from -r requirements.txt (line 1)) (2.28.2)\r\n",
      "Collecting pycocotools\r\n",
      "  Downloading pycocotools-2.0.6.tar.gz (24 kB)\r\n",
      "  Installing build dependencies ... \u001b[?25l-\b \b\\\b \b|\b \b/\b \b-\b \b\\\b \b|\b \b/\b \bdone\r\n",
      "\u001b[?25h  Getting requirements to build wheel ... \u001b[?25l-\b \bdone\r\n",
      "\u001b[?25h  Preparing metadata (pyproject.toml) ... \u001b[?25l-\b \bdone\r\n",
      "\u001b[?25hRequirement already satisfied: tqdm in /opt/conda/lib/python3.7/site-packages (from -r requirements.txt (line 3)) (4.64.1)\r\n",
      "Requirement already satisfied: charset-normalizer<4,>=2 in /opt/conda/lib/python3.7/site-packages (from requests->-r requirements.txt (line 1)) (2.1.1)\r\n",
      "Requirement already satisfied: certifi>=2017.4.17 in /opt/conda/lib/python3.7/site-packages (from requests->-r requirements.txt (line 1)) (2022.12.7)\r\n",
      "Requirement already satisfied: urllib3<1.27,>=1.21.1 in /opt/conda/lib/python3.7/site-packages (from requests->-r requirements.txt (line 1)) (1.26.14)\r\n",
      "Requirement already satisfied: idna<4,>=2.5 in /opt/conda/lib/python3.7/site-packages (from requests->-r requirements.txt (line 1)) (3.4)\r\n",
      "Requirement already satisfied: numpy in /opt/conda/lib/python3.7/site-packages (from pycocotools->-r requirements.txt (line 2)) (1.21.6)\r\n",
      "Requirement already satisfied: matplotlib>=2.1.0 in /opt/conda/lib/python3.7/site-packages (from pycocotools->-r requirements.txt (line 2)) (3.5.3)\r\n",
      "Requirement already satisfied: kiwisolver>=1.0.1 in /opt/conda/lib/python3.7/site-packages (from matplotlib>=2.1.0->pycocotools->-r requirements.txt (line 2)) (1.4.4)\r\n",
      "Requirement already satisfied: pyparsing>=2.2.1 in /opt/conda/lib/python3.7/site-packages (from matplotlib>=2.1.0->pycocotools->-r requirements.txt (line 2)) (3.0.9)\r\n",
      "Requirement already satisfied: fonttools>=4.22.0 in /opt/conda/lib/python3.7/site-packages (from matplotlib>=2.1.0->pycocotools->-r requirements.txt (line 2)) (4.38.0)\r\n",
      "Requirement already satisfied: python-dateutil>=2.7 in /opt/conda/lib/python3.7/site-packages (from matplotlib>=2.1.0->pycocotools->-r requirements.txt (line 2)) (2.8.2)\r\n",
      "Requirement already satisfied: cycler>=0.10 in /opt/conda/lib/python3.7/site-packages (from matplotlib>=2.1.0->pycocotools->-r requirements.txt (line 2)) (0.11.0)\r\n",
      "Requirement already satisfied: pillow>=6.2.0 in /opt/conda/lib/python3.7/site-packages (from matplotlib>=2.1.0->pycocotools->-r requirements.txt (line 2)) (9.4.0)\r\n",
      "Requirement already satisfied: packaging>=20.0 in /opt/conda/lib/python3.7/site-packages (from matplotlib>=2.1.0->pycocotools->-r requirements.txt (line 2)) (23.0)\r\n",
      "Requirement already satisfied: typing-extensions in /opt/conda/lib/python3.7/site-packages (from kiwisolver>=1.0.1->matplotlib>=2.1.0->pycocotools->-r requirements.txt (line 2)) (4.4.0)\r\n",
      "Requirement already satisfied: six>=1.5 in /opt/conda/lib/python3.7/site-packages (from python-dateutil>=2.7->matplotlib>=2.1.0->pycocotools->-r requirements.txt (line 2)) (1.16.0)\r\n",
      "Building wheels for collected packages: pycocotools\r\n",
      "  Building wheel for pycocotools (pyproject.toml) ... \u001b[?25l-\b \b\\\b \b|\b \b/\b \b-\b \b\\\b \b|\b \bdone\r\n",
      "\u001b[?25h  Created wheel for pycocotools: filename=pycocotools-2.0.6-cp37-cp37m-linux_x86_64.whl size=373913 sha256=69f8860094a20fc89594c9ef1486933a06a8465226cd043f1736e0c719ba7e88\r\n",
      "  Stored in directory: /root/.cache/pip/wheels/d0/90/d4/e9ae0a3cdbd8e0cddf6b5fe8c31774fb9bd0ae4e9754fb2314\r\n",
      "Successfully built pycocotools\r\n",
      "Installing collected packages: pycocotools\r\n",
      "Successfully installed pycocotools-2.0.6\r\n",
      "\u001b[33mWARNING: Running pip as the 'root' user can result in broken permissions and conflicting behaviour with the system package manager. It is recommended to use a virtual environment instead: https://pip.pypa.io/warnings/venv\u001b[0m\u001b[33m\r\n",
      "\u001b[0m"
     ]
    }
   ],
   "source": [
    "!pip3 install -r requirements.txt"
   ]
  },
  {
   "cell_type": "code",
   "execution_count": 3,
   "id": "fb9e4876",
   "metadata": {
    "execution": {
     "iopub.execute_input": "2023-04-10T17:10:07.277734Z",
     "iopub.status.busy": "2023-04-10T17:10:07.277402Z",
     "iopub.status.idle": "2023-04-10T17:15:18.616142Z",
     "shell.execute_reply": "2023-04-10T17:15:18.614910Z"
    },
    "papermill": {
     "duration": 311.346441,
     "end_time": "2023-04-10T17:15:18.618828",
     "exception": false,
     "start_time": "2023-04-10T17:10:07.272387",
     "status": "completed"
    },
    "tags": []
   },
   "outputs": [
    {
     "name": "stdout",
     "output_type": "stream",
     "text": [
      "loading annotations into memory...\r\n",
      "Done (t=0.02s)\r\n",
      "creating index...\r\n",
      "index created!\r\n",
      "100%|█████████████████████████████████████████| 772/772 [05:10<00:00,  2.49it/s]\r\n"
     ]
    }
   ],
   "source": [
    "!python3 main.py"
   ]
  },
  {
   "cell_type": "code",
   "execution_count": 4,
   "id": "fb02c6e0",
   "metadata": {
    "execution": {
     "iopub.execute_input": "2023-04-10T17:15:18.709450Z",
     "iopub.status.busy": "2023-04-10T17:15:18.708421Z",
     "iopub.status.idle": "2023-04-10T17:15:18.717078Z",
     "shell.execute_reply": "2023-04-10T17:15:18.715673Z"
    },
    "papermill": {
     "duration": 0.056492,
     "end_time": "2023-04-10T17:15:18.719506",
     "exception": false,
     "start_time": "2023-04-10T17:15:18.663014",
     "status": "completed"
    },
    "tags": []
   },
   "outputs": [
    {
     "name": "stdout",
     "output_type": "stream",
     "text": [
      "/kaggle/working\n"
     ]
    }
   ],
   "source": [
    "%cd .."
   ]
  }
 ],
 "metadata": {
  "kernelspec": {
   "display_name": "Python 3",
   "language": "python",
   "name": "python3"
  },
  "language_info": {
   "codemirror_mode": {
    "name": "ipython",
    "version": 3
   },
   "file_extension": ".py",
   "mimetype": "text/x-python",
   "name": "python",
   "nbconvert_exporter": "python",
   "pygments_lexer": "ipython3",
   "version": "3.7.12"
  },
  "papermill": {
   "default_parameters": {},
   "duration": 354.000403,
   "end_time": "2023-04-10T17:15:19.284696",
   "environment_variables": {},
   "exception": null,
   "input_path": "__notebook__.ipynb",
   "output_path": "__notebook__.ipynb",
   "parameters": {},
   "start_time": "2023-04-10T17:09:25.284293",
   "version": "2.4.0"
  }
 },
 "nbformat": 4,
 "nbformat_minor": 5
}
